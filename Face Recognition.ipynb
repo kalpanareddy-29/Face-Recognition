{
 "cells": [
  {
   "cell_type": "code",
   "execution_count": 2,
   "id": "08cd18b3-fd23-44b0-acf0-d6a24ccbd559",
   "metadata": {},
   "outputs": [
    {
     "name": "stdout",
     "output_type": "stream",
     "text": [
      "Requirement already satisfied: opencv-python in c:\\users\\kalpa\\appdata\\roaming\\python\\python39\\site-packages (4.9.0.80)\n",
      "Requirement already satisfied: numpy in c:\\users\\kalpa\\.conda\\envs\\tf\\lib\\site-packages (1.26.3)\n",
      "Requirement already satisfied: scikit-learn in c:\\users\\kalpa\\.conda\\envs\\tf\\lib\\site-packages (1.3.0)\n",
      "Requirement already satisfied: scipy>=1.5.0 in c:\\users\\kalpa\\.conda\\envs\\tf\\lib\\site-packages (from scikit-learn) (1.11.4)\n",
      "Requirement already satisfied: joblib>=1.1.1 in c:\\users\\kalpa\\.conda\\envs\\tf\\lib\\site-packages (from scikit-learn) (1.2.0)\n",
      "Requirement already satisfied: threadpoolctl>=2.0.0 in c:\\users\\kalpa\\.conda\\envs\\tf\\lib\\site-packages (from scikit-learn) (2.2.0)\n",
      "Note: you may need to restart the kernel to use updated packages.\n"
     ]
    }
   ],
   "source": [
    "pip install opencv-python numpy scikit-learn"
   ]
  },
  {
   "cell_type": "code",
   "execution_count": 30,
   "id": "c4ab7814-8c98-45a6-ac83-d5d5b9434424",
   "metadata": {},
   "outputs": [],
   "source": [
    "import cv2\n",
    "import os\n",
    "import numpy as np\n",
    "from sklearn.model_selection import train_test_split\n",
    "from sklearn.preprocessing import LabelEncoder\n",
    "from sklearn.metrics import accuracy_score\n",
    "from tensorflow.keras.models import Sequential\n",
    "from tensorflow.keras import layers\n",
    "from tensorflow.keras.preprocessing.image import ImageDataGenerator\n",
    "from tensorflow.keras.optimizers import Adam"
   ]
  },
  {
   "cell_type": "code",
   "execution_count": 31,
   "id": "9696269f-c7df-45db-9fa0-e6e015432644",
   "metadata": {},
   "outputs": [
    {
     "name": "stdout",
     "output_type": "stream",
     "text": [
      "Loaded 410 images from C:/Users/kalpa/Desktop/Face recognisaton\n"
     ]
    }
   ],
   "source": [
    "def load_images_and_labels(image_dir):\n",
    "    images = []\n",
    "    labels = []\n",
    "    \n",
    "    for filename in os.listdir(image_dir):\n",
    "        if filename.endswith(\".jpg\") or filename.endswith(\".png\"):\n",
    "            label = filename.split('_')[1].split('.')[0]# Extract the label from the filename\n",
    "            image_path = os.path.join(image_dir, filename)\n",
    "            image = cv2.imread(image_path, cv2.IMREAD_GRAYSCALE)\n",
    "            if image is not None:\n",
    "                images.append(image)\n",
    "                labels.append(label)\n",
    "    \n",
    "    print(f'Loaded {len(images)} images from {image_dir}')\n",
    "    return images, labels\n",
    "\n",
    "data_dir = 'C:/Users/kalpa/Desktop/Face recognisaton'\n",
    "images, labels = load_images_and_labels(data_dir)\n"
   ]
  },
  {
   "cell_type": "code",
   "execution_count": 32,
   "id": "aae2243b-cc21-43f1-986a-2dbeb128a27a",
   "metadata": {},
   "outputs": [
    {
     "name": "stdout",
     "output_type": "stream",
     "text": [
      "Shape of resized_images: (410, 100, 100)\n",
      "Shape of encoded_labels: (410,)\n"
     ]
    }
   ],
   "source": [
    "def preprocess_data(images, labels, image_size=(100, 100)):\n",
    "    resized_images = [cv2.resize(image, image_size) for image in images]\n",
    "    label_encoder = LabelEncoder()\n",
    "    encoded_labels = label_encoder.fit_transform(labels)\n",
    "    return np.array(resized_images), encoded_labels, label_encoder\n",
    "\n",
    "resized_images, encoded_labels, label_encoder = preprocess_data(images, labels)\n",
    "print(f'Shape of resized_images: {resized_images.shape}')\n",
    "print(f'Shape of encoded_labels: {encoded_labels.shape}')"
   ]
  },
  {
   "cell_type": "code",
   "execution_count": 33,
   "id": "a6d799ab-6d78-4fe8-bcac-0814c065f0cb",
   "metadata": {},
   "outputs": [
    {
     "name": "stdout",
     "output_type": "stream",
     "text": [
      "Shape of X_train: (287, 100, 100)\n",
      "Shape of X_test: (123, 100, 100)\n",
      "Shape of y_train: (287,)\n",
      "Shape of y_test: (123,)\n"
     ]
    }
   ],
   "source": [
    "X_train, X_test, y_train, y_test = train_test_split(resized_images, encoded_labels, test_size=0.3, random_state=42)\n",
    "print(f'Shape of X_train: {X_train.shape}')\n",
    "print(f'Shape of X_test: {X_test.shape}')\n",
    "print(f'Shape of y_train: {y_train.shape}')\n",
    "print(f'Shape of y_test: {y_test.shape}')"
   ]
  },
  {
   "cell_type": "code",
   "execution_count": 34,
   "id": "730f872a-8c96-4481-b1e9-72e6c80c126a",
   "metadata": {},
   "outputs": [],
   "source": [
    "X_train = X_train.astype('float32') / 255.0\n",
    "X_test = X_test.astype('float32') / 255.0\n",
    "\n",
    "# Reshape data\n",
    "X_train = np.expand_dims(X_train, axis=-1)\n",
    "X_test = np.expand_dims(X_test, axis=-1)  # Add channel dimension\n",
    "num_classes = len(np.unique(encoded_labels))"
   ]
  },
  {
   "cell_type": "code",
   "execution_count": 35,
   "id": "c2a0d95f-5fae-40a0-8441-06ed084bc2e2",
   "metadata": {},
   "outputs": [],
   "source": [
    "from sklearn.model_selection import train_test_split\n",
    "from sklearn.preprocessing import LabelEncoder\n",
    "from tensorflow.keras.models import Sequential\n",
    "from tensorflow.keras import layers\n",
    "from tensorflow.keras.preprocessing.image import ImageDataGenerator\n",
    "from tensorflow.keras.optimizers import Adam\n",
    "from tensorflow.keras.models import Sequential\n",
    "from tensorflow.keras.layers import Conv2D, MaxPooling2D, Flatten, Dense"
   ]
  },
  {
   "cell_type": "code",
   "execution_count": 36,
   "id": "d998deb4-a556-4e54-975f-c94dc1ea6a10",
   "metadata": {},
   "outputs": [],
   "source": [
    "model = Sequential([\n",
    "    Conv2D(32, (3, 3), activation='relu', input_shape=(100, 100, 1)),\n",
    "    MaxPooling2D((2, 2)),\n",
    "    Conv2D(64, (3, 3), activation='relu'),\n",
    "    MaxPooling2D((2, 2)),\n",
    "    Conv2D(128, (3, 3), activation='relu'),\n",
    "    MaxPooling2D((2, 2)),\n",
    "    Flatten(),\n",
    "    Dense(128, activation='relu'),\n",
    "    Dense(num_classes, activation='softmax')  # Number of unique labels\n",
    "])\n",
    "\n"
   ]
  },
  {
   "cell_type": "code",
   "execution_count": 37,
   "id": "773bb2bc-4dc7-49d9-8a5c-b6314cc9ae6a",
   "metadata": {},
   "outputs": [
    {
     "name": "stdout",
     "output_type": "stream",
     "text": [
      "Epoch 1/30\n",
      "9/9 [==============================] - 7s 595ms/step - loss: 3.7169 - accuracy: 0.0209 - val_loss: 3.7298 - val_accuracy: 0.0244\n",
      "Epoch 2/30\n",
      "9/9 [==============================] - 5s 540ms/step - loss: 3.6919 - accuracy: 0.0348 - val_loss: 3.7390 - val_accuracy: 0.0244\n",
      "Epoch 3/30\n",
      "9/9 [==============================] - 5s 572ms/step - loss: 3.6787 - accuracy: 0.0523 - val_loss: 3.7467 - val_accuracy: 0.0244\n",
      "Epoch 4/30\n",
      "9/9 [==============================] - 4s 453ms/step - loss: 3.6619 - accuracy: 0.0418 - val_loss: 3.7465 - val_accuracy: 0.0081\n",
      "Epoch 5/30\n",
      "9/9 [==============================] - 4s 502ms/step - loss: 3.6378 - accuracy: 0.0523 - val_loss: 3.7405 - val_accuracy: 0.0407\n",
      "Epoch 6/30\n",
      "9/9 [==============================] - 5s 521ms/step - loss: 3.6056 - accuracy: 0.0767 - val_loss: 3.7371 - val_accuracy: 0.0488\n",
      "Epoch 7/30\n",
      "9/9 [==============================] - 5s 618ms/step - loss: 3.5656 - accuracy: 0.1080 - val_loss: 3.7093 - val_accuracy: 0.0488\n",
      "Epoch 8/30\n",
      "9/9 [==============================] - 5s 536ms/step - loss: 3.5070 - accuracy: 0.0976 - val_loss: 3.6690 - val_accuracy: 0.0325\n",
      "Epoch 9/30\n",
      "9/9 [==============================] - 5s 541ms/step - loss: 3.4357 - accuracy: 0.1672 - val_loss: 3.6325 - val_accuracy: 0.0813\n",
      "Epoch 10/30\n",
      "9/9 [==============================] - 5s 542ms/step - loss: 3.3525 - accuracy: 0.1951 - val_loss: 3.5634 - val_accuracy: 0.1382\n",
      "Epoch 11/30\n",
      "9/9 [==============================] - 4s 415ms/step - loss: 3.2181 - accuracy: 0.2334 - val_loss: 3.4888 - val_accuracy: 0.0976\n",
      "Epoch 12/30\n",
      "9/9 [==============================] - 6s 631ms/step - loss: 3.0888 - accuracy: 0.2718 - val_loss: 3.3852 - val_accuracy: 0.1707\n",
      "Epoch 13/30\n",
      "9/9 [==============================] - 5s 580ms/step - loss: 2.9472 - accuracy: 0.2509 - val_loss: 3.3199 - val_accuracy: 0.1463\n",
      "Epoch 14/30\n",
      "9/9 [==============================] - 5s 557ms/step - loss: 2.7647 - accuracy: 0.3937 - val_loss: 3.1704 - val_accuracy: 0.2276\n",
      "Epoch 15/30\n",
      "9/9 [==============================] - 5s 590ms/step - loss: 2.5515 - accuracy: 0.4739 - val_loss: 3.0480 - val_accuracy: 0.2846\n",
      "Epoch 16/30\n",
      "9/9 [==============================] - 4s 486ms/step - loss: 2.3345 - accuracy: 0.5087 - val_loss: 2.9028 - val_accuracy: 0.2927\n",
      "Epoch 17/30\n",
      "9/9 [==============================] - 5s 559ms/step - loss: 2.1285 - accuracy: 0.6063 - val_loss: 2.6913 - val_accuracy: 0.3984\n",
      "Epoch 18/30\n",
      "9/9 [==============================] - 5s 569ms/step - loss: 1.8770 - accuracy: 0.6307 - val_loss: 2.5366 - val_accuracy: 0.3740\n",
      "Epoch 19/30\n",
      "9/9 [==============================] - 5s 572ms/step - loss: 1.7077 - accuracy: 0.6690 - val_loss: 2.4013 - val_accuracy: 0.4228\n",
      "Epoch 20/30\n",
      "9/9 [==============================] - 5s 577ms/step - loss: 1.5180 - accuracy: 0.6585 - val_loss: 2.2873 - val_accuracy: 0.4065\n",
      "Epoch 21/30\n",
      "9/9 [==============================] - 5s 620ms/step - loss: 1.2848 - accuracy: 0.7247 - val_loss: 2.1083 - val_accuracy: 0.4309\n",
      "Epoch 22/30\n",
      "9/9 [==============================] - 5s 520ms/step - loss: 1.1177 - accuracy: 0.7700 - val_loss: 1.8733 - val_accuracy: 0.5935\n",
      "Epoch 23/30\n",
      "9/9 [==============================] - 5s 619ms/step - loss: 0.9567 - accuracy: 0.7944 - val_loss: 1.7022 - val_accuracy: 0.5854\n",
      "Epoch 24/30\n",
      "9/9 [==============================] - 5s 567ms/step - loss: 0.8161 - accuracy: 0.8328 - val_loss: 1.5536 - val_accuracy: 0.5854\n",
      "Epoch 25/30\n",
      "9/9 [==============================] - 5s 566ms/step - loss: 0.6719 - accuracy: 0.8676 - val_loss: 1.3410 - val_accuracy: 0.6423\n",
      "Epoch 26/30\n",
      "9/9 [==============================] - 5s 607ms/step - loss: 0.5332 - accuracy: 0.8955 - val_loss: 1.2088 - val_accuracy: 0.6748\n",
      "Epoch 27/30\n",
      "9/9 [==============================] - 5s 585ms/step - loss: 0.4547 - accuracy: 0.9164 - val_loss: 1.1741 - val_accuracy: 0.7073\n",
      "Epoch 28/30\n",
      "9/9 [==============================] - 7s 822ms/step - loss: 0.3907 - accuracy: 0.9373 - val_loss: 0.9120 - val_accuracy: 0.7724\n",
      "Epoch 29/30\n",
      "9/9 [==============================] - 4s 390ms/step - loss: 0.3037 - accuracy: 0.9443 - val_loss: 0.9343 - val_accuracy: 0.7561\n",
      "Epoch 30/30\n",
      "9/9 [==============================] - 2s 259ms/step - loss: 0.2720 - accuracy: 0.9512 - val_loss: 0.8163 - val_accuracy: 0.8293\n",
      "4/4 [==============================] - 0s 108ms/step - loss: 0.8163 - accuracy: 0.8293\n",
      "Test Accuracy: 0.8292682766914368\n"
     ]
    }
   ],
   "source": [
    "model.compile(optimizer=Adam(learning_rate=0.0001), loss='sparse_categorical_crossentropy', metrics=['accuracy'])\n",
    "\n",
    "# Train the model\n",
    "history = model.fit(X_train, y_train, batch_size=32,epochs=30,validation_data=(X_test, y_test))\n",
    "\n",
    "# Evaluate the model\n",
    "test_loss, test_accuracy = model.evaluate(X_test, y_test)\n",
    "print(\"Test Accuracy:\", test_accuracy)"
   ]
  },
  {
   "cell_type": "code",
   "execution_count": 38,
   "id": "4b259041-9e42-41f9-a526-6572bfc7e18e",
   "metadata": {},
   "outputs": [
    {
     "name": "stdout",
     "output_type": "stream",
     "text": [
      "4/4 [==============================] - 0s 85ms/step - loss: 0.8163 - accuracy: 0.8293\n",
      "Test Accuracy: 0.8292682766914368\n"
     ]
    }
   ],
   "source": [
    "test_loss, test_accuracy = model.evaluate(X_test, y_test)\n",
    "print(\"Test Accuracy:\", test_accuracy)"
   ]
  },
  {
   "cell_type": "code",
   "execution_count": 39,
   "id": "d2fd4474-0b72-4c03-b013-0a751bfd0e0a",
   "metadata": {},
   "outputs": [
    {
     "name": "stdout",
     "output_type": "stream",
     "text": [
      "4/4 - 0s - loss: 0.8163 - accuracy: 0.8293 - 415ms/epoch - 104ms/step\n"
     ]
    },
    {
     "data": {
      "image/png": "[encoded data removed]",
      "text/plain": [
       "<Figure size 640x480 with 1 Axes>"
      ]
     },
     "metadata": {},
     "output_type": "display_data"
    }
   ],
   "source": [
    "import matplotlib.pyplot as plt\n",
    "plt.plot(history.history['accuracy'], label='accuracy')\n",
    "plt.plot(history.history['val_accuracy'], label = 'val_accuracy')\n",
    "plt.xlabel('Epoch')\n",
    "plt.ylabel('Accuracy')\n",
    "plt.ylim([0.5, 1])\n",
    "plt.legend(loc='lower right')\n",
    "\n",
    "test_loss, test_acc = model.evaluate(X_test,  y_test, verbose=2)"
   ]
  },
  {
   "cell_type": "code",
   "execution_count": 40,
   "id": "853c5b99-72aa-48d4-96b2-ca23da19fe59",
   "metadata": {},
   "outputs": [
    {
     "name": "stdout",
     "output_type": "stream",
     "text": [
      "9/9 [==============================] - 1s 156ms/step - loss: 0.2157 - accuracy: 0.9686\n",
      "Test Accuracy: 0.9686411023139954\n"
     ]
    }
   ],
   "source": [
    "train_loss, train_accuracy = model.evaluate(X_train, y_train)\n",
    "print(\"Test Accuracy:\", train_accuracy)"
   ]
  },
  {
   "cell_type": "code",
   "execution_count": 41,
   "id": "592906dd-027d-4502-b8c6-e4ee67b57907",
   "metadata": {},
   "outputs": [
    {
     "name": "stdout",
     "output_type": "stream",
     "text": [
      "9/9 - 1s - loss: 0.2157 - accuracy: 0.9686 - 641ms/epoch - 71ms/step\n"
     ]
    },
    {
     "data": {
      "image/png": "[encoded data removed]",
      "text/plain": [
       "<Figure size 640x480 with 1 Axes>"
      ]
     },
     "metadata": {},
     "output_type": "display_data"
    }
   ],
   "source": [
    "import matplotlib.pyplot as plt\n",
    "plt.plot(history.history['accuracy'], label='accuracy')\n",
    "plt.plot(history.history['val_accuracy'], label = 'val_accuracy')\n",
    "plt.xlabel('Epoch')\n",
    "plt.ylabel('Accuracy')\n",
    "plt.ylim([0.5, 1])\n",
    "plt.legend(loc='lower right')\n",
    "\n",
    "test_loss, test_acc = model.evaluate(X_train,  y_train, verbose=2)"
   ]
  },
  {
   "cell_type": "code",
   "execution_count": 42,
   "id": "450d5b06-a80d-427d-afa0-6d22ce2b89ec",
   "metadata": {},
   "outputs": [
    {
     "name": "stdout",
     "output_type": "stream",
     "text": [
      "1/1 [==============================] - 0s 221ms/step\n",
      "Predicted Label: ['1']\n"
     ]
    }
   ],
   "source": [
    "def preprocess_single_image(image_path, image_size=(100, 100)):\n",
    "    image = cv2.imread(image_path, cv2.IMREAD_GRAYSCALE)\n",
    "    if image is None:\n",
    "        raise ValueError(\"Image not found or could not be read\")\n",
    "    image = cv2.resize(image, image_size)\n",
    "    image = image.astype('float32') / 255.0\n",
    "    image = np.expand_dims(image, axis=-1)  # Add channel dimension\n",
    "    image = np.expand_dims(image, axis=0)  # Add batch dimension\n",
    "    return image\n",
    "test_image_path = 'C:/Users/kalpa/Desktop/flower_photos/daisy/5673551_01d1ea993e_n.jpg'#8th image\n",
    "test_image = preprocess_single_image(test_image_path)\n",
    "predicted_class = model.predict(test_image)\n",
    "predicted_label = label_encoder.inverse_transform([np.argmax(predicted_class)])\n",
    "print(\"Predicted Label:\", predicted_label)"
   ]
  }
 ],
 "metadata": {
  "kernelspec": {
   "display_name": "Python 3 (ipykernel)",
   "language": "python",
   "name": "python3"
  },
  "language_info": {
   "codemirror_mode": {
    "name": "ipython",
    "version": 3
   },
   "file_extension": ".py",
   "mimetype": "text/x-python",
   "name": "python",
   "nbconvert_exporter": "python",
   "pygments_lexer": "ipython3",
   "version": "3.9.18"
  }
 },
 "nbformat": 4,
 "nbformat_minor": 5
}
